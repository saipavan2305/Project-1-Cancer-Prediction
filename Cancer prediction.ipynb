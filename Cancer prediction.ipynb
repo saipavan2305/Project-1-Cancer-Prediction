{
 "cells": [
  {
   "cell_type": "code",
   "execution_count": 515,
   "id": "1e349a8a-dbb9-4da6-83d4-84b5f5c114f1",
   "metadata": {},
   "outputs": [],
   "source": [
    "#Loading the important libraries \n",
    "import numpy as np\n",
    "import pandas as pd\n",
    "import matplotlib.pyplot as plt\n",
    "%matplotlib inline\n",
    "import seaborn as sns\n",
    "import warnings\n",
    "warnings.filterwarnings('ignore')"
   ]
  },
  {
   "cell_type": "code",
   "execution_count": 516,
   "id": "0f51a342-d9f3-4896-93a1-a3095cfd931e",
   "metadata": {},
   "outputs": [],
   "source": [
    "data=pd.read_csv(r\"C:\\Users\\ASUS\\Downloads\\The_Cancer_data_1500_V2.csv\")\n"
   ]
  },
  {
   "cell_type": "code",
   "execution_count": 517,
   "id": "31f0fe11-f4e6-4312-9aad-2ddfac9239c9",
   "metadata": {},
   "outputs": [
    {
     "data": {
      "text/html": [
       "<div>\n",
       "<style scoped>\n",
       "    .dataframe tbody tr th:only-of-type {\n",
       "        vertical-align: middle;\n",
       "    }\n",
       "\n",
       "    .dataframe tbody tr th {\n",
       "        vertical-align: top;\n",
       "    }\n",
       "\n",
       "    .dataframe thead th {\n",
       "        text-align: right;\n",
       "    }\n",
       "</style>\n",
       "<table border=\"1\" class=\"dataframe\">\n",
       "  <thead>\n",
       "    <tr style=\"text-align: right;\">\n",
       "      <th></th>\n",
       "      <th>Age</th>\n",
       "      <th>Gender</th>\n",
       "      <th>BMI</th>\n",
       "      <th>Smoking</th>\n",
       "      <th>GeneticRisk</th>\n",
       "      <th>PhysicalActivity</th>\n",
       "      <th>AlcoholIntake</th>\n",
       "      <th>CancerHistory</th>\n",
       "      <th>Diagnosis</th>\n",
       "    </tr>\n",
       "  </thead>\n",
       "  <tbody>\n",
       "    <tr>\n",
       "      <th>0</th>\n",
       "      <td>58</td>\n",
       "      <td>1</td>\n",
       "      <td>16.085313</td>\n",
       "      <td>0</td>\n",
       "      <td>1</td>\n",
       "      <td>8.146251</td>\n",
       "      <td>4.148219</td>\n",
       "      <td>1</td>\n",
       "      <td>1</td>\n",
       "    </tr>\n",
       "    <tr>\n",
       "      <th>1</th>\n",
       "      <td>71</td>\n",
       "      <td>0</td>\n",
       "      <td>30.828784</td>\n",
       "      <td>0</td>\n",
       "      <td>1</td>\n",
       "      <td>9.361630</td>\n",
       "      <td>3.519683</td>\n",
       "      <td>0</td>\n",
       "      <td>0</td>\n",
       "    </tr>\n",
       "    <tr>\n",
       "      <th>2</th>\n",
       "      <td>48</td>\n",
       "      <td>1</td>\n",
       "      <td>38.785084</td>\n",
       "      <td>0</td>\n",
       "      <td>2</td>\n",
       "      <td>5.135179</td>\n",
       "      <td>4.728368</td>\n",
       "      <td>0</td>\n",
       "      <td>1</td>\n",
       "    </tr>\n",
       "    <tr>\n",
       "      <th>3</th>\n",
       "      <td>34</td>\n",
       "      <td>0</td>\n",
       "      <td>30.040296</td>\n",
       "      <td>0</td>\n",
       "      <td>0</td>\n",
       "      <td>9.502792</td>\n",
       "      <td>2.044636</td>\n",
       "      <td>0</td>\n",
       "      <td>0</td>\n",
       "    </tr>\n",
       "    <tr>\n",
       "      <th>4</th>\n",
       "      <td>62</td>\n",
       "      <td>1</td>\n",
       "      <td>35.479721</td>\n",
       "      <td>0</td>\n",
       "      <td>0</td>\n",
       "      <td>5.356890</td>\n",
       "      <td>3.309849</td>\n",
       "      <td>0</td>\n",
       "      <td>1</td>\n",
       "    </tr>\n",
       "  </tbody>\n",
       "</table>\n",
       "</div>"
      ],
      "text/plain": [
       "   Age  Gender        BMI  Smoking  GeneticRisk  PhysicalActivity  \\\n",
       "0   58       1  16.085313        0            1          8.146251   \n",
       "1   71       0  30.828784        0            1          9.361630   \n",
       "2   48       1  38.785084        0            2          5.135179   \n",
       "3   34       0  30.040296        0            0          9.502792   \n",
       "4   62       1  35.479721        0            0          5.356890   \n",
       "\n",
       "   AlcoholIntake  CancerHistory  Diagnosis  \n",
       "0       4.148219              1          1  \n",
       "1       3.519683              0          0  \n",
       "2       4.728368              0          1  \n",
       "3       2.044636              0          0  \n",
       "4       3.309849              0          1  "
      ]
     },
     "execution_count": 517,
     "metadata": {},
     "output_type": "execute_result"
    }
   ],
   "source": [
    "# Basic view of the dataset\n",
    "data.head()\n"
   ]
  },
  {
   "cell_type": "code",
   "execution_count": 518,
   "id": "ccbdd94c-dfb8-4cde-8e51-d3d16cebd95f",
   "metadata": {},
   "outputs": [
    {
     "name": "stdout",
     "output_type": "stream",
     "text": [
      "<class 'pandas.core.frame.DataFrame'>\n",
      "RangeIndex: 1500 entries, 0 to 1499\n",
      "Data columns (total 9 columns):\n",
      " #   Column            Non-Null Count  Dtype  \n",
      "---  ------            --------------  -----  \n",
      " 0   Age               1500 non-null   int64  \n",
      " 1   Gender            1500 non-null   int64  \n",
      " 2   BMI               1500 non-null   float64\n",
      " 3   Smoking           1500 non-null   int64  \n",
      " 4   GeneticRisk       1500 non-null   int64  \n",
      " 5   PhysicalActivity  1500 non-null   float64\n",
      " 6   AlcoholIntake     1500 non-null   float64\n",
      " 7   CancerHistory     1500 non-null   int64  \n",
      " 8   Diagnosis         1500 non-null   int64  \n",
      "dtypes: float64(3), int64(6)\n",
      "memory usage: 105.6 KB\n"
     ]
    }
   ],
   "source": [
    "#Dtype and information about dataset\n",
    "data.info()\n"
   ]
  },
  {
   "cell_type": "code",
   "execution_count": 519,
   "id": "934bb4f8-6eca-4100-9e66-c387929271b5",
   "metadata": {},
   "outputs": [
    {
     "data": {
      "text/plain": [
       "Gender\n",
       "0    764\n",
       "1    736\n",
       "Name: count, dtype: int64"
      ]
     },
     "execution_count": 519,
     "metadata": {},
     "output_type": "execute_result"
    }
   ],
   "source": [
    "data['Gender'].value_counts()\n",
    "# 764 male & 736 female"
   ]
  },
  {
   "cell_type": "code",
   "execution_count": 520,
   "id": "b88874e9-c4b7-4e1e-8d91-91ed5ede05f3",
   "metadata": {},
   "outputs": [
    {
     "data": {
      "text/html": [
       "<div>\n",
       "<style scoped>\n",
       "    .dataframe tbody tr th:only-of-type {\n",
       "        vertical-align: middle;\n",
       "    }\n",
       "\n",
       "    .dataframe tbody tr th {\n",
       "        vertical-align: top;\n",
       "    }\n",
       "\n",
       "    .dataframe thead th {\n",
       "        text-align: right;\n",
       "    }\n",
       "</style>\n",
       "<table border=\"1\" class=\"dataframe\">\n",
       "  <thead>\n",
       "    <tr style=\"text-align: right;\">\n",
       "      <th></th>\n",
       "      <th>Age</th>\n",
       "      <th>Gender</th>\n",
       "      <th>BMI</th>\n",
       "      <th>Smoking</th>\n",
       "      <th>GeneticRisk</th>\n",
       "      <th>PhysicalActivity</th>\n",
       "      <th>AlcoholIntake</th>\n",
       "      <th>CancerHistory</th>\n",
       "      <th>Diagnosis</th>\n",
       "    </tr>\n",
       "  </thead>\n",
       "  <tbody>\n",
       "    <tr>\n",
       "      <th>count</th>\n",
       "      <td>1500.000000</td>\n",
       "      <td>1500.000000</td>\n",
       "      <td>1500.000000</td>\n",
       "      <td>1500.000000</td>\n",
       "      <td>1500.000000</td>\n",
       "      <td>1500.000000</td>\n",
       "      <td>1500.000000</td>\n",
       "      <td>1500.000000</td>\n",
       "      <td>1500.000000</td>\n",
       "    </tr>\n",
       "    <tr>\n",
       "      <th>mean</th>\n",
       "      <td>50.320000</td>\n",
       "      <td>0.490667</td>\n",
       "      <td>27.513321</td>\n",
       "      <td>0.269333</td>\n",
       "      <td>0.508667</td>\n",
       "      <td>4.897929</td>\n",
       "      <td>2.417987</td>\n",
       "      <td>0.144000</td>\n",
       "      <td>0.371333</td>\n",
       "    </tr>\n",
       "    <tr>\n",
       "      <th>std</th>\n",
       "      <td>17.640968</td>\n",
       "      <td>0.500080</td>\n",
       "      <td>7.230012</td>\n",
       "      <td>0.443761</td>\n",
       "      <td>0.678895</td>\n",
       "      <td>2.866162</td>\n",
       "      <td>1.419318</td>\n",
       "      <td>0.351207</td>\n",
       "      <td>0.483322</td>\n",
       "    </tr>\n",
       "    <tr>\n",
       "      <th>min</th>\n",
       "      <td>20.000000</td>\n",
       "      <td>0.000000</td>\n",
       "      <td>15.000291</td>\n",
       "      <td>0.000000</td>\n",
       "      <td>0.000000</td>\n",
       "      <td>0.002410</td>\n",
       "      <td>0.001215</td>\n",
       "      <td>0.000000</td>\n",
       "      <td>0.000000</td>\n",
       "    </tr>\n",
       "    <tr>\n",
       "      <th>25%</th>\n",
       "      <td>35.000000</td>\n",
       "      <td>0.000000</td>\n",
       "      <td>21.483134</td>\n",
       "      <td>0.000000</td>\n",
       "      <td>0.000000</td>\n",
       "      <td>2.434609</td>\n",
       "      <td>1.210598</td>\n",
       "      <td>0.000000</td>\n",
       "      <td>0.000000</td>\n",
       "    </tr>\n",
       "    <tr>\n",
       "      <th>50%</th>\n",
       "      <td>51.000000</td>\n",
       "      <td>0.000000</td>\n",
       "      <td>27.598494</td>\n",
       "      <td>0.000000</td>\n",
       "      <td>0.000000</td>\n",
       "      <td>4.834316</td>\n",
       "      <td>2.382971</td>\n",
       "      <td>0.000000</td>\n",
       "      <td>0.000000</td>\n",
       "    </tr>\n",
       "    <tr>\n",
       "      <th>75%</th>\n",
       "      <td>66.000000</td>\n",
       "      <td>1.000000</td>\n",
       "      <td>33.850837</td>\n",
       "      <td>1.000000</td>\n",
       "      <td>1.000000</td>\n",
       "      <td>7.409896</td>\n",
       "      <td>3.585624</td>\n",
       "      <td>0.000000</td>\n",
       "      <td>1.000000</td>\n",
       "    </tr>\n",
       "    <tr>\n",
       "      <th>max</th>\n",
       "      <td>80.000000</td>\n",
       "      <td>1.000000</td>\n",
       "      <td>39.958688</td>\n",
       "      <td>1.000000</td>\n",
       "      <td>2.000000</td>\n",
       "      <td>9.994607</td>\n",
       "      <td>4.987115</td>\n",
       "      <td>1.000000</td>\n",
       "      <td>1.000000</td>\n",
       "    </tr>\n",
       "  </tbody>\n",
       "</table>\n",
       "</div>"
      ],
      "text/plain": [
       "               Age       Gender          BMI      Smoking  GeneticRisk  \\\n",
       "count  1500.000000  1500.000000  1500.000000  1500.000000  1500.000000   \n",
       "mean     50.320000     0.490667    27.513321     0.269333     0.508667   \n",
       "std      17.640968     0.500080     7.230012     0.443761     0.678895   \n",
       "min      20.000000     0.000000    15.000291     0.000000     0.000000   \n",
       "25%      35.000000     0.000000    21.483134     0.000000     0.000000   \n",
       "50%      51.000000     0.000000    27.598494     0.000000     0.000000   \n",
       "75%      66.000000     1.000000    33.850837     1.000000     1.000000   \n",
       "max      80.000000     1.000000    39.958688     1.000000     2.000000   \n",
       "\n",
       "       PhysicalActivity  AlcoholIntake  CancerHistory    Diagnosis  \n",
       "count       1500.000000    1500.000000    1500.000000  1500.000000  \n",
       "mean           4.897929       2.417987       0.144000     0.371333  \n",
       "std            2.866162       1.419318       0.351207     0.483322  \n",
       "min            0.002410       0.001215       0.000000     0.000000  \n",
       "25%            2.434609       1.210598       0.000000     0.000000  \n",
       "50%            4.834316       2.382971       0.000000     0.000000  \n",
       "75%            7.409896       3.585624       0.000000     1.000000  \n",
       "max            9.994607       4.987115       1.000000     1.000000  "
      ]
     },
     "execution_count": 520,
     "metadata": {},
     "output_type": "execute_result"
    }
   ],
   "source": [
    "data.describe()"
   ]
  },
  {
   "cell_type": "code",
   "execution_count": 521,
   "id": "ea40b834-b11e-4c0b-b912-9bf8cb56a3ca",
   "metadata": {},
   "outputs": [
    {
     "data": {
      "text/plain": [
       "<Axes: ylabel='Density'>"
      ]
     },
     "execution_count": 521,
     "metadata": {},
     "output_type": "execute_result"
    },
    {
     "data": {
      "image/png": "[encoded data removed]",
      "text/plain": [
       "<Figure size 640x480 with 1 Axes>"
      ]
     },
     "metadata": {},
     "output_type": "display_data"
    }
   ],
   "source": [
    "sns.distplot(x=data['Age'],kde=True)"
   ]
  },
  {
   "cell_type": "code",
   "execution_count": 522,
   "id": "155d665d-159f-48b3-8c8b-7b61dd028ce7",
   "metadata": {},
   "outputs": [],
   "source": [
    "grouped_data=data.groupby('Gender').mean()"
   ]
  },
  {
   "cell_type": "code",
   "execution_count": 523,
   "id": "5b3691ee-b313-43cb-986d-9cc64eed36f3",
   "metadata": {},
   "outputs": [
    {
     "data": {
      "text/html": [
       "<div>\n",
       "<style scoped>\n",
       "    .dataframe tbody tr th:only-of-type {\n",
       "        vertical-align: middle;\n",
       "    }\n",
       "\n",
       "    .dataframe tbody tr th {\n",
       "        vertical-align: top;\n",
       "    }\n",
       "\n",
       "    .dataframe thead th {\n",
       "        text-align: right;\n",
       "    }\n",
       "</style>\n",
       "<table border=\"1\" class=\"dataframe\">\n",
       "  <thead>\n",
       "    <tr style=\"text-align: right;\">\n",
       "      <th>Gender</th>\n",
       "      <th>0</th>\n",
       "      <th>1</th>\n",
       "    </tr>\n",
       "  </thead>\n",
       "  <tbody>\n",
       "    <tr>\n",
       "      <th>Age</th>\n",
       "      <td>50.196335</td>\n",
       "      <td>50.448370</td>\n",
       "    </tr>\n",
       "    <tr>\n",
       "      <th>BMI</th>\n",
       "      <td>27.602108</td>\n",
       "      <td>27.421156</td>\n",
       "    </tr>\n",
       "    <tr>\n",
       "      <th>Smoking</th>\n",
       "      <td>0.253927</td>\n",
       "      <td>0.285326</td>\n",
       "    </tr>\n",
       "    <tr>\n",
       "      <th>GeneticRisk</th>\n",
       "      <td>0.511780</td>\n",
       "      <td>0.505435</td>\n",
       "    </tr>\n",
       "    <tr>\n",
       "      <th>PhysicalActivity</th>\n",
       "      <td>4.832120</td>\n",
       "      <td>4.966242</td>\n",
       "    </tr>\n",
       "    <tr>\n",
       "      <th>AlcoholIntake</th>\n",
       "      <td>2.404447</td>\n",
       "      <td>2.432043</td>\n",
       "    </tr>\n",
       "    <tr>\n",
       "      <th>CancerHistory</th>\n",
       "      <td>0.141361</td>\n",
       "      <td>0.146739</td>\n",
       "    </tr>\n",
       "    <tr>\n",
       "      <th>Diagnosis</th>\n",
       "      <td>0.252618</td>\n",
       "      <td>0.494565</td>\n",
       "    </tr>\n",
       "  </tbody>\n",
       "</table>\n",
       "</div>"
      ],
      "text/plain": [
       "Gender                    0          1\n",
       "Age               50.196335  50.448370\n",
       "BMI               27.602108  27.421156\n",
       "Smoking            0.253927   0.285326\n",
       "GeneticRisk        0.511780   0.505435\n",
       "PhysicalActivity   4.832120   4.966242\n",
       "AlcoholIntake      2.404447   2.432043\n",
       "CancerHistory      0.141361   0.146739\n",
       "Diagnosis          0.252618   0.494565"
      ]
     },
     "execution_count": 523,
     "metadata": {},
     "output_type": "execute_result"
    }
   ],
   "source": [
    "grouped_data.transpose()"
   ]
  },
  {
   "cell_type": "code",
   "execution_count": 524,
   "id": "a3f32faa-a4eb-4b1e-945d-34f3104003cf",
   "metadata": {},
   "outputs": [
    {
     "data": {
      "text/plain": [
       "<Axes: ylabel='Gender'>"
      ]
     },
     "execution_count": 524,
     "metadata": {},
     "output_type": "execute_result"
    },
    {
     "data": {
      "image/png": "[encoded data removed]",
      "text/plain": [
       "<Figure size 640x480 with 2 Axes>"
      ]
     },
     "metadata": {},
     "output_type": "display_data"
    }
   ],
   "source": [
    "sns.heatmap(grouped_data,linecolor='white',cmap=\"coolwarm\",)"
   ]
  },
  {
   "cell_type": "code",
   "execution_count": 525,
   "id": "f3a99682-57f1-4821-b648-522a9be0fc61",
   "metadata": {},
   "outputs": [],
   "source": [
    "# Features included for training the model ( AGE,GENDER,BMI,SMOKING,GENETIC RISK , PHYSICAL ACTIVITY , ALCOHOL INTAKE , CANCER HISTORY\n",
    "X=data.drop(columns=\"Diagnosis\",axis=1)"
   ]
  },
  {
   "cell_type": "code",
   "execution_count": 526,
   "id": "448e32a7-9377-4e6c-89a0-61fc87b5b35e",
   "metadata": {},
   "outputs": [],
   "source": [
    "# TARGET VARIABLE\n",
    "y=data['Diagnosis']"
   ]
  },
  {
   "cell_type": "code",
   "execution_count": 527,
   "id": "3d2137e9-2c4f-4322-b0e6-d3ee381843cd",
   "metadata": {},
   "outputs": [],
   "source": [
    "# STANDARDIZATION OF THE DATASET\n",
    "from sklearn.preprocessing import StandardScaler"
   ]
  },
  {
   "cell_type": "code",
   "execution_count": 528,
   "id": "4b3d926a-d687-439e-b585-68c02197eb8b",
   "metadata": {},
   "outputs": [],
   "source": [
    "sd=StandardScaler()"
   ]
  },
  {
   "cell_type": "code",
   "execution_count": 529,
   "id": "27aa9e5b-a50e-434d-a462-2015e7f2ec16",
   "metadata": {},
   "outputs": [],
   "source": [
    "X=sd.fit_transform(X)"
   ]
  },
  {
   "cell_type": "code",
   "execution_count": 530,
   "id": "cb81901b-cfbb-40ae-bc3e-098c34492333",
   "metadata": {},
   "outputs": [],
   "source": [
    "# TRAIN_TEST_SPLIT INTO TRAIN AND TEST DATASET\n",
    "from sklearn.model_selection import train_test_split\n"
   ]
  },
  {
   "cell_type": "code",
   "execution_count": 531,
   "id": "30cc922d-ad7c-477b-9319-8630d3019f72",
   "metadata": {},
   "outputs": [],
   "source": [
    "X_train, X_test, y_train, y_test = train_test_split(  X, y, test_size=0.33, random_state=42)"
   ]
  },
  {
   "cell_type": "code",
   "execution_count": 532,
   "id": "27654c15-1c5e-48f2-a091-4a8bbecf1abe",
   "metadata": {},
   "outputs": [],
   "source": [
    "# USING RANDOMFOREST CLASSIFIER AS IT GAVE BEST RESULTS \n",
    "from sklearn.ensemble import RandomForestClassifier"
   ]
  },
  {
   "cell_type": "code",
   "execution_count": 533,
   "id": "3ab80588-cfea-45bc-bab1-a50db60b8a7b",
   "metadata": {},
   "outputs": [],
   "source": [
    "rf=RandomForestClassifier()"
   ]
  },
  {
   "cell_type": "code",
   "execution_count": 534,
   "id": "8ff5046e-1e93-40ac-95a2-a70cda653965",
   "metadata": {},
   "outputs": [
    {
     "data": {
      "text/html": [
       "<style>#sk-container-id-8 {color: black;background-color: white;}#sk-container-id-8 pre{padding: 0;}#sk-container-id-8 div.sk-toggleable {background-color: white;}#sk-container-id-8 label.sk-toggleable__label {cursor: pointer;display: block;width: 100%;margin-bottom: 0;padding: 0.3em;box-sizing: border-box;text-align: center;}#sk-container-id-8 label.sk-toggleable__label-arrow:before {content: \"▸\";float: left;margin-right: 0.25em;color: #696969;}#sk-container-id-8 label.sk-toggleable__label-arrow:hover:before {color: black;}#sk-container-id-8 div.sk-estimator:hover label.sk-toggleable__label-arrow:before {color: black;}#sk-container-id-8 div.sk-toggleable__content {max-height: 0;max-width: 0;overflow: hidden;text-align: left;background-color: #f0f8ff;}#sk-container-id-8 div.sk-toggleable__content pre {margin: 0.2em;color: black;border-radius: 0.25em;background-color: #f0f8ff;}#sk-container-id-8 input.sk-toggleable__control:checked~div.sk-toggleable__content {max-height: 200px;max-width: 100%;overflow: auto;}#sk-container-id-8 input.sk-toggleable__control:checked~label.sk-toggleable__label-arrow:before {content: \"▾\";}#sk-container-id-8 div.sk-estimator input.sk-toggleable__control:checked~label.sk-toggleable__label {background-color: #d4ebff;}#sk-container-id-8 div.sk-label input.sk-toggleable__control:checked~label.sk-toggleable__label {background-color: #d4ebff;}#sk-container-id-8 input.sk-hidden--visually {border: 0;clip: rect(1px 1px 1px 1px);clip: rect(1px, 1px, 1px, 1px);height: 1px;margin: -1px;overflow: hidden;padding: 0;position: absolute;width: 1px;}#sk-container-id-8 div.sk-estimator {font-family: monospace;background-color: #f0f8ff;border: 1px dotted black;border-radius: 0.25em;box-sizing: border-box;margin-bottom: 0.5em;}#sk-container-id-8 div.sk-estimator:hover {background-color: #d4ebff;}#sk-container-id-8 div.sk-parallel-item::after {content: \"\";width: 100%;border-bottom: 1px solid gray;flex-grow: 1;}#sk-container-id-8 div.sk-label:hover label.sk-toggleable__label {background-color: #d4ebff;}#sk-container-id-8 div.sk-serial::before {content: \"\";position: absolute;border-left: 1px solid gray;box-sizing: border-box;top: 0;bottom: 0;left: 50%;z-index: 0;}#sk-container-id-8 div.sk-serial {display: flex;flex-direction: column;align-items: center;background-color: white;padding-right: 0.2em;padding-left: 0.2em;position: relative;}#sk-container-id-8 div.sk-item {position: relative;z-index: 1;}#sk-container-id-8 div.sk-parallel {display: flex;align-items: stretch;justify-content: center;background-color: white;position: relative;}#sk-container-id-8 div.sk-item::before, #sk-container-id-8 div.sk-parallel-item::before {content: \"\";position: absolute;border-left: 1px solid gray;box-sizing: border-box;top: 0;bottom: 0;left: 50%;z-index: -1;}#sk-container-id-8 div.sk-parallel-item {display: flex;flex-direction: column;z-index: 1;position: relative;background-color: white;}#sk-container-id-8 div.sk-parallel-item:first-child::after {align-self: flex-end;width: 50%;}#sk-container-id-8 div.sk-parallel-item:last-child::after {align-self: flex-start;width: 50%;}#sk-container-id-8 div.sk-parallel-item:only-child::after {width: 0;}#sk-container-id-8 div.sk-dashed-wrapped {border: 1px dashed gray;margin: 0 0.4em 0.5em 0.4em;box-sizing: border-box;padding-bottom: 0.4em;background-color: white;}#sk-container-id-8 div.sk-label label {font-family: monospace;font-weight: bold;display: inline-block;line-height: 1.2em;}#sk-container-id-8 div.sk-label-container {text-align: center;}#sk-container-id-8 div.sk-container {/* jupyter's `normalize.less` sets `[hidden] { display: none; }` but bootstrap.min.css set `[hidden] { display: none !important; }` so we also need the `!important` here to be able to override the default hidden behavior on the sphinx rendered scikit-learn.org. See: https://github.com/scikit-learn/scikit-learn/issues/21755 */display: inline-block !important;position: relative;}#sk-container-id-8 div.sk-text-repr-fallback {display: none;}</style><div id=\"sk-container-id-8\" class=\"sk-top-container\"><div class=\"sk-text-repr-fallback\"><pre>RandomForestClassifier()</pre><b>In a Jupyter environment, please rerun this cell to show the HTML representation or trust the notebook. <br />On GitHub, the HTML representation is unable to render, please try loading this page with nbviewer.org.</b></div><div class=\"sk-container\" hidden><div class=\"sk-item\"><div class=\"sk-estimator sk-toggleable\"><input class=\"sk-toggleable__control sk-hidden--visually\" id=\"sk-estimator-id-8\" type=\"checkbox\" checked><label for=\"sk-estimator-id-8\" class=\"sk-toggleable__label sk-toggleable__label-arrow\">RandomForestClassifier</label><div class=\"sk-toggleable__content\"><pre>RandomForestClassifier()</pre></div></div></div></div></div>"
      ],
      "text/plain": [
       "RandomForestClassifier()"
      ]
     },
     "execution_count": 534,
     "metadata": {},
     "output_type": "execute_result"
    }
   ],
   "source": [
    "rf.fit(X_train,y_train)"
   ]
  },
  {
   "cell_type": "code",
   "execution_count": 535,
   "id": "4b38821c-ce35-4761-9043-ede3755fee1b",
   "metadata": {},
   "outputs": [],
   "source": [
    "predictions=rf.predict(X_test)"
   ]
  },
  {
   "cell_type": "code",
   "execution_count": 536,
   "id": "2278e793-737d-42bb-bc9f-ccc9fb4bca19",
   "metadata": {},
   "outputs": [],
   "source": [
    "from sklearn.metrics import classification_report,accuracy_score"
   ]
  },
  {
   "cell_type": "code",
   "execution_count": 537,
   "id": "0a1bee7b-d293-4712-af7b-34b2db95c47b",
   "metadata": {},
   "outputs": [
    {
     "name": "stdout",
     "output_type": "stream",
     "text": [
      "              precision    recall  f1-score   support\n",
      "\n",
      "           0       0.97      0.91      0.94       322\n",
      "           1       0.85      0.95      0.90       173\n",
      "\n",
      "    accuracy                           0.93       495\n",
      "   macro avg       0.91      0.93      0.92       495\n",
      "weighted avg       0.93      0.93      0.93       495\n",
      "\n"
     ]
    }
   ],
   "source": [
    "print(classification_report(predictions,y_test))"
   ]
  },
  {
   "cell_type": "code",
   "execution_count": 538,
   "id": "303d8d1d-65c5-4878-ab29-d30a400b3b8c",
   "metadata": {},
   "outputs": [],
   "source": [
    "\n",
    "from sklearn.ensemble import RandomForestClassifier\n",
    "from sklearn.neighbors import KNeighborsClassifier\n",
    "from sklearn.svm import SVC\n",
    "from sklearn.linear_model import LogisticRegression\n",
    "from sklearn.naive_bayes import GaussianNB"
   ]
  },
  {
   "cell_type": "code",
   "execution_count": 539,
   "id": "1dc8ce97-746b-41c6-8784-edb9573fa9ea",
   "metadata": {},
   "outputs": [],
   "source": [
    "\n",
    "rt_model=RandomForestClassifier()\n",
    "knn_model=KNeighborsClassifier()\n",
    "svm_model=SVC()\n",
    "reg_model=LogisticRegression()\n",
    "navie_model=GaussianNB()"
   ]
  },
  {
   "cell_type": "code",
   "execution_count": 540,
   "id": "a11fcef3-3b0e-4aad-936b-9fbeb86ed54b",
   "metadata": {},
   "outputs": [],
   "source": [
    "model_list=[rt_model,knn_model,svm_model,reg_model,navie_model]"
   ]
  },
  {
   "cell_type": "code",
   "execution_count": 541,
   "id": "47e8573c-5876-4db4-9fc9-49641decd5ac",
   "metadata": {},
   "outputs": [],
   "source": [
    "acc_list=[]\n",
    "for model in model_list:\n",
    "    model.fit(X_train,y_train)\n",
    "    pred=model.predict(X_test)\n",
    "    accu=accuracy_score(pred,y_test)\n",
    "    acc_list.append(accu)"
   ]
  },
  {
   "cell_type": "code",
   "execution_count": 542,
   "id": "156fe70e-c890-4058-abe9-72d1d9493168",
   "metadata": {},
   "outputs": [],
   "source": [
    "model_df=pd.DataFrame({\"Model\":model_list,\"accuracy\":acc_list})"
   ]
  },
  {
   "cell_type": "code",
   "execution_count": 543,
   "id": "1d72bf48-cef1-4709-a4d9-3d5c855fe168",
   "metadata": {},
   "outputs": [
    {
     "data": {
      "text/html": [
       "<div>\n",
       "<style scoped>\n",
       "    .dataframe tbody tr th:only-of-type {\n",
       "        vertical-align: middle;\n",
       "    }\n",
       "\n",
       "    .dataframe tbody tr th {\n",
       "        vertical-align: top;\n",
       "    }\n",
       "\n",
       "    .dataframe thead th {\n",
       "        text-align: right;\n",
       "    }\n",
       "</style>\n",
       "<table border=\"1\" class=\"dataframe\">\n",
       "  <thead>\n",
       "    <tr style=\"text-align: right;\">\n",
       "      <th></th>\n",
       "      <th>Model</th>\n",
       "      <th>accuracy</th>\n",
       "    </tr>\n",
       "  </thead>\n",
       "  <tbody>\n",
       "    <tr>\n",
       "      <th>0</th>\n",
       "      <td>(DecisionTreeClassifier(max_features='sqrt', r...</td>\n",
       "      <td>0.925253</td>\n",
       "    </tr>\n",
       "    <tr>\n",
       "      <th>1</th>\n",
       "      <td>KNeighborsClassifier()</td>\n",
       "      <td>0.894949</td>\n",
       "    </tr>\n",
       "    <tr>\n",
       "      <th>2</th>\n",
       "      <td>SVC()</td>\n",
       "      <td>0.890909</td>\n",
       "    </tr>\n",
       "    <tr>\n",
       "      <th>3</th>\n",
       "      <td>LogisticRegression()</td>\n",
       "      <td>0.854545</td>\n",
       "    </tr>\n",
       "    <tr>\n",
       "      <th>4</th>\n",
       "      <td>GaussianNB()</td>\n",
       "      <td>0.826263</td>\n",
       "    </tr>\n",
       "  </tbody>\n",
       "</table>\n",
       "</div>"
      ],
      "text/plain": [
       "                                               Model  accuracy\n",
       "0  (DecisionTreeClassifier(max_features='sqrt', r...  0.925253\n",
       "1                             KNeighborsClassifier()  0.894949\n",
       "2                                              SVC()  0.890909\n",
       "3                               LogisticRegression()  0.854545\n",
       "4                                       GaussianNB()  0.826263"
      ]
     },
     "execution_count": 543,
     "metadata": {},
     "output_type": "execute_result"
    }
   ],
   "source": [
    "model_df"
   ]
  },
  {
   "cell_type": "code",
   "execution_count": 544,
   "id": "cef4140c-0d5a-44a2-9b61-f3c2528260cc",
   "metadata": {},
   "outputs": [],
   "source": [
    "# so the accuracy of these models show that random forest classifier has more accuracy so lets try with it"
   ]
  },
  {
   "cell_type": "code",
   "execution_count": 545,
   "id": "bea30539-f39f-4d64-921e-211f0b08e45d",
   "metadata": {},
   "outputs": [],
   "source": [
    "data['Gender'].replace([1,0],[\"F\",\"M\"],inplace=True)"
   ]
  },
  {
   "cell_type": "code",
   "execution_count": 546,
   "id": "abb9fe32-c095-4649-ab4e-10b70dabbb19",
   "metadata": {},
   "outputs": [
    {
     "data": {
      "text/plain": [
       "<Axes: xlabel='Gender', ylabel='count'>"
      ]
     },
     "execution_count": 546,
     "metadata": {},
     "output_type": "execute_result"
    },
    {
     "data": {
      "image/png": "[encoded data removed]",
      "text/plain": [
       "<Figure size 640x480 with 1 Axes>"
      ]
     },
     "metadata": {},
     "output_type": "display_data"
    }
   ],
   "source": [
    "sns.countplot(x=data['Gender'])"
   ]
  },
  {
   "cell_type": "code",
   "execution_count": 547,
   "id": "6de2c0d4-ab32-4fe3-8e19-f2d389d2ab83",
   "metadata": {},
   "outputs": [
    {
     "data": {
      "text/plain": [
       "Index(['Age', 'Gender', 'BMI', 'Smoking', 'GeneticRisk', 'PhysicalActivity',\n",
       "       'AlcoholIntake', 'CancerHistory', 'Diagnosis'],\n",
       "      dtype='object')"
      ]
     },
     "execution_count": 547,
     "metadata": {},
     "output_type": "execute_result"
    }
   ],
   "source": [
    "data.columns"
   ]
  },
  {
   "cell_type": "code",
   "execution_count": 548,
   "id": "f6878403-9828-493c-952d-a493c1a58849",
   "metadata": {},
   "outputs": [
    {
     "name": "stdin",
     "output_type": "stream",
     "text": [
      "enter the age 50\n",
      "enter the gender (0 --> M & 1--> F ) 0\n",
      "enter the BMI Value 20\n",
      " smoking (0 if no & 1 if yes 1\n",
      " gentic risk (enter between 0-2) 0\n",
      "Physical Activity (enter between 0 - 9) 2\n",
      " Alcohol Intake enter between 0 - 5  4\n",
      "cancer History (0 --> No & 1--> yes)  0\n"
     ]
    },
    {
     "name": "stdout",
     "output_type": "stream",
     "text": [
      "[0]\n",
      "No cancer is detected\n"
     ]
    }
   ],
   "source": [
    "# prediction Model \n",
    "age=int(input(\"enter the age\"))\n",
    "gender=str(input(\"enter the gender (0 --> M & 1--> F )\"))\n",
    "BMI=float(input(\"enter the BMI Value\"))\n",
    "Smoking=int(input(\" smoking (0 if no & 1 if yes\"))\n",
    "GeneticRisk=float(input(\" gentic risk (enter between 0-2)\"))\n",
    "PhysicalActivity=float(input(\"Physical Activity (enter between 0 - 9)\"))\n",
    "AlcoholIntake = float(input(\" Alcohol Intake enter between 0 - 5 \" ))\n",
    "CancerHistory=int(input(\"cancer History (0 --> No & 1--> yes) \"))\n",
    "\n",
    "input_data=[age,gender,BMI,Smoking,GeneticRisk,PhysicalActivity,AlcoholIntake,CancerHistory]\n",
    "input_data_array=np.asarray(input_data)\n",
    "input_data_reshaped=input_data_array.reshape(1,-1)\n",
    "std_data=sd.transform(input_data_reshaped)\n",
    "prediction=model.predict(std_data)\n",
    "print(prediction)\n",
    "\n",
    "if prediction[0] == 0 :\n",
    "    print(\"No cancer is detected\")\n",
    "else:\n",
    "    print(\"Cancer Dectected\")"
   ]
  },
  {
   "cell_type": "code",
   "execution_count": null,
   "id": "71b294f4-310f-41b9-8805-3dd707cb48ef",
   "metadata": {},
   "outputs": [],
   "source": []
  }
 ],
 "metadata": {
  "kernelspec": {
   "display_name": "Python 3 (ipykernel)",
   "language": "python",
   "name": "python3"
  },
  "language_info": {
   "codemirror_mode": {
    "name": "ipython",
    "version": 3
   },
   "file_extension": ".py",
   "mimetype": "text/x-python",
   "name": "python",
   "nbconvert_exporter": "python",
   "pygments_lexer": "ipython3",
   "version": "3.11.7"
  }
 },
 "nbformat": 4,
 "nbformat_minor": 5
}
